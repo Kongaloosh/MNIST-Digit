{
 "cells": [
  {
   "cell_type": "markdown",
   "metadata": {},
   "source": [
    "# Coursework #1\n",
    "\n",
    "## Introduction\n",
    "\n",
    "This coursework is concerned with building multi-layer networks to address the MNIST digit classification problem. It builds on the previous labs, in particular [02_MNIST_SLN.ipynb](02_MNIST_SLN.ipynb) in which single layer networks were trained for MNIST digit classification.   The course will involve extending that code to use Sigmoid and Softmax layers, combining these into multi-layer networks, and carrying out a number of MNIST digit classification experiments, to investigate the effect of learning rate, the number of hidden units, and the number of hidden layers.\n",
    "\n",
    "The coursework is divided into 4 tasks:\n",
    "* **Task 1**:   *Implementing a sigmoid layer* - 15 marks.  \n",
    "This task involves extending the `Linear` class in file `mlp/layers.py` to `Sigmoid`, with code for forward prop, backprop computation of the gradient, and weight update.\n",
    "* **Task 2**:  *Implementing a softmax layer* - 15 marks.  \n",
    "This task involves extending the `Linear` class in file `mlp/layers.py` to `Softmax`, with code for forward prop, backprop computation of the gradient, and weight update.\n",
    "* **Task 3**:  *Constructing a multi-layer network* - 40 marks.  \n",
    "This task involves putting together a Sigmoid and a Softmax layer to create a multi-layer network, with one hidden layer (100 units) and one output layer, that is trained to classify MNIST digits.  This task will include reporting classification results, exploring the effect of learning rates, and plotting Hinton Diagrams for the hidden units and output units.\n",
    "* **Task 4**:  *Experiments with different architectures*  - 30 marks.  \n",
    "This task involves further MNIST classification experiments, primarily looking at the effect of using different numbers of hidden layers.\n",
    "The coursework will be marked out of 100, and will contribute 30% of the total mark in the MLP course.\n",
    "\n",
    "## Previous Tutorials\n",
    "\n",
    "Before starting this coursework make sure that you have completed the first three labs:\n",
    "\n",
    "* [00_Introduction.ipynb](00_Introduction.ipynb) - setting up your environment; *Solutions*: [00_Introduction_solution.ipynb](00_Introduction_solution.ipynb)\n",
    "* [01_Linear_Models.ipynb](01_Linear_Models.ipynb) - training single layer networks; *Solutions*: [01_Linear_Models_solution.ipynb](01_Linear_Models_solution.ipynb)\n",
    "* [02_MNIST_SLN.ipynb](02_MNIST_SLN.ipynb) - training a single layer network for MNIST digit classification\n",
    "\n",
    "To ensure that your virtual environment is correct, please see [this note](https://github.com/CSTR-Edinburgh/mlpractical/blob/master/kernel_issue_fix.md) on the GitHub.\n",
    "## Submission\n",
    "**Submission Deadline:  Thursday 29 October, 16:00** \n",
    "\n",
    "Submit the coursework as an ipython notebook file, using the `submit` command in the terminal on a DICE machine. If your file is `03_MLP_Coursework1.ipynb` then you would enter:\n",
    "\n",
    "`submit mlp 1 03_MLP_Coursework1.ipynb` \n",
    "\n",
    "where `mlp 1` indicates this is the first coursework of MLP.\n",
    "\n",
    "After submitting, you should receive an email of acknowledgment from the system confirming that your submission has been received successfully. Keep the email as evidence of your coursework submission.\n",
    "\n",
    "**Please make sure you submit a single `ipynb` file (and nothing else)!**\n",
    "\n",
    "**Submission Deadline:  Thursday 29 October, 16:00** \n",
    "\n"
   ]
  },
  {
   "cell_type": "markdown",
   "metadata": {},
   "source": [
    "## Getting Started\n",
    "Please enter your exam number and the date in the next code cell."
   ]
  },
  {
   "cell_type": "code",
   "execution_count": null,
   "metadata": {
    "collapsed": true
   },
   "outputs": [],
   "source": [
    "#MLP Coursework 1\n",
    "#Exam number: <ENTER EXAM NUMBER>\n",
    "#Date: <ENTER DATE>\n",
    "\n"
   ]
  },
  {
   "cell_type": "markdown",
   "metadata": {},
   "source": [
    "Please run the next code cell, which imports `numpy` and seeds the random number generator.  Please **do not** modify the random number generator seed!"
   ]
  },
  {
   "cell_type": "code",
   "execution_count": 1,
   "metadata": {
    "collapsed": false
   },
   "outputs": [],
   "source": [
    "import numpy\n",
    "\n",
    "#Seed a random number generator running the below cell, but do **not** modify the seed.\n",
    "rng = numpy.random.RandomState([2015,10,10])\n",
    "rng_state = rng.get_state()"
   ]
  },
  {
   "cell_type": "markdown",
   "metadata": {},
   "source": [
    "## Task 1 - Sigmoid Layer (15%)\n",
    "\n",
    "In this task you need to create a class `Sigmoid` which encapsulates a layer of sigmoid units.  You should do this by extending the `mlp.layers.Linear` class (in file `mlp/layers.py`), which implements a a layer of linear units (i.e. weighted sum plus bias).  The `Sigmoid` class extends this by applying the sigmoid transfer function to the weighted sum in the forward propagation, and applying the derivative of the sigmoid in the gradient descent back propagation and computing the gradients with respect to layer's parameters. Do **not** copy the implementation provided in `Linear` class but rather, **reuse** it through inheritance.\n",
    "\n",
    "When you have implemented `Sigmoid` (in the `mlp.layers` module), then please test it by running the below code cell.\n"
   ]
  },
  {
   "cell_type": "code",
   "execution_count": 2,
   "metadata": {
    "collapsed": false
   },
   "outputs": [
    {
     "name": "stdout",
     "output_type": "stream",
     "text": [
      "4.21941537867\n",
      "121.4\n",
      "4.1105500626\n",
      "[ 0.067  0.728  0.999  0.512  0.159  0.584  0.238  0.932]\n",
      "[ -2.010e+01   5.240e+01   0.000e+00   5.000e-02   5.000e-02   4.900e+01\n",
      "   2.000e+01   2.000e+01]\n",
      "[ 1.406  0.078 -0.268  0.418  1.646  0.831]\n"
     ]
    }
   ],
   "source": [
    "from mlp.layers import Sigmoid\n",
    "\n",
    "a = numpy.asarray([-20.1, 52.4, 0, 0.05, 0.05, 49])\n",
    "b = numpy.asarray([-20.1, 52.4, 0, 0.05, 0.05, 49, 20, 20])\n",
    "\n",
    "rng.set_state(rng_state)\n",
    "sigm = Sigmoid(idim=a.shape[0], odim=b.shape[0], rng=rng) #we're setting a layer with an in of 6 and out of 8\n",
    "\n",
    "fp = sigm.fprop(a)\n",
    "deltas, ograds  = sigm.bprop(h=fp, igrads=b)\n",
    "\n",
    "print fp.sum()\n",
    "print deltas.sum()\n",
    "print ograds.sum()\n",
    "%precision 3\n",
    "print fp\n",
    "print deltas\n",
    "print ograds\n"
   ]
  },
  {
   "cell_type": "markdown",
   "metadata": {},
   "source": [
    "***\n",
    "To include the `Sigmoid` code in the notebook please run the below code cell.  (The `%load` notebook command is used to load the source of the `Sigmoid` class from `mlp/layers.py`.)"
   ]
  },
  {
   "cell_type": "code",
   "execution_count": null,
   "metadata": {
    "collapsed": false
   },
   "outputs": [],
   "source": [
    "# %load -s Sigmoid mlp/layers.py\n",
    "class Sigmoid(Linear):\n",
    "    \"\"\"\n",
    "    Form of activation where each output is between 0 and 1. The sum of all outputs will be constrained to 1.\n",
    "    the output of a network is P(k | x^n)\n",
    "    \"\"\"\n",
    "    def __init__(self, idim, odim,\n",
    "                 rng=None,\n",
    "                 irange=0.1):\n",
    "\n",
    "        super(Linear, self).__init__(rng=rng)\n",
    "\n",
    "        self.idim = idim\n",
    "        self.odim = odim\n",
    "\n",
    "        self.W = self.rng.uniform(\n",
    "            -irange, irange,\n",
    "            (self.idim, self.odim))\n",
    "\n",
    "        self.b = numpy.zeros((self.odim,), dtype=numpy.float32)\n",
    "\n",
    "    def fprop(self, inputs):\n",
    "        \"\"\"\n",
    "        Implements a forward propagation through the i-th layer, that is\n",
    "        some form of:\n",
    "           a^i = xW^i + b^i\n",
    "           h^i = f^i(a^i)\n",
    "        with f^i, W^i, b^i denoting a non-linearity, weight matrix and\n",
    "        biases of this (i-th) layer, respectively and x denoting inputs.\n",
    "\n",
    "        :param inputs: matrix of features (x) or the output of the previous layer h^{i-1}\n",
    "        :return: h^i, matrix of transformed by layer features\n",
    "        \"\"\"\n",
    "        a = numpy.dot(inputs, self.W) + self.b\n",
    "        y = 1/(1 + numpy.exp(-1 * a))\n",
    "        return y\n",
    "\n",
    "\n",
    "    def bprop(self, h, igrads):\n",
    "        \"\"\"\n",
    "        Implements a backward propagation through the layer, that is, given\n",
    "        h^i denotes the output of the layer and x^i the input, we compute:\n",
    "        dh^i/dx^i which by chain rule is dh^i/da^i da^i/dx^i\n",
    "        x^i could be either features (x) or the output of the lower layer h^{i-1}\n",
    "        :param h: it's an activation produced in forward pass\n",
    "        :param igrads, error signal (or gradient) flowing to the layer, note,\n",
    "               this in general case does not corresponds to 'deltas' used to update\n",
    "               the layer's parameters, to get deltas ones need to multiply it with\n",
    "               the dh^i/da^i derivative\n",
    "        :return: a tuple (deltas, ograds) where:\n",
    "               deltas = igrads * dh^i/da^i\n",
    "               ograds = deltas \\times da^i/dx^i\n",
    "        \"\"\"\n",
    "\n",
    "        # since df^i/da^i = 1 (f is assumed identity function),\n",
    "        # deltas are in fact the same as igrads\n",
    "        derivative = h*(1-h)\n",
    "        print(\"derivative\",derivative)\n",
    "        ograds = numpy.dot(igrads*derivative, self.W.T)\n",
    "        return igrads, ograds\n",
    "\n",
    "\n",
    "    def bprop_cost(self, h, igrads, cost):\n",
    "        \"\"\"\n",
    "        Implements a backward propagation in case the layer directly\n",
    "        deals with the optimised cost (i.e. the top layer)\n",
    "        By default, method should implement a bprop for default cost, that is\n",
    "        the one that is natural to the layer's output, i.e.:\n",
    "        here we implement linear -> mse scenario\n",
    "        :param h: it's an activation produced in forward pass\n",
    "        :param igrads, error signal (or gradient) flowing to the layer, note,\n",
    "               this in general case does not corresponds to 'deltas' used to update\n",
    "               the layer's parameters, to get deltas ones need to multiply it with\n",
    "               the dh^i/da^i derivative\n",
    "        :param cost, mlp.costs.Cost instance defining the used cost\n",
    "        :return: a tuple (deltas, ograds) where:\n",
    "               deltas = igrads * dh^i/da^i\n",
    "               ograds = deltas \\times da^i/dx^i\n",
    "        \"\"\"\n",
    "\n",
    "        if cost is None or cost.get_name() == 'mse':\n",
    "            # for linear layer and mean square error cost,\n",
    "            # cost back-prop is the same as standard back-prop\n",
    "            return self.bprop(h, igrads)\n",
    "        else:\n",
    "            raise NotImplementedError('Linear.bprop_cost method not implemented '\n",
    "                                      'for the %s cost' % cost.get_name())\n",
    "\n",
    "\n",
    "    def get_name(self):\n",
    "        return 'Sigmoid'\n"
   ]
  },
  {
   "cell_type": "markdown",
   "metadata": {},
   "source": [
    "## Task 2 - Softmax (15%)\n",
    "\n",
    "In this task you need to create a class `Softmax` which encapsulates a layer of softmax units.  As in the previous task, you should do this by extending the `mlp.layers.Linear` class (in file `mlp/layers.py`).\n",
    "\n",
    "When you have implemented `Softmax` (in the `mlp.layers` module), then please test it by running the below code cell.\n"
   ]
  },
  {
   "cell_type": "code",
   "execution_count": null,
   "metadata": {
    "collapsed": false,
    "scrolled": true
   },
   "outputs": [],
   "source": [
    "import numpy\n",
    "from mlp.layers import Softmax\n",
    "from mlp.costs import CECost\n",
    "\n",
    "a = numpy.asarray([-20.1, 52.4, 0, 0.05, 0.05, 49])\n",
    "b = numpy.asarray([0, 0, 0, 0, 0, 0, 0, 1])\n",
    "\n",
    "rng.set_state(rng_state)\n",
    "softmax = Softmax(idim=a.shape[0], odim=b.shape[0], rng=rng)\n",
    "\n",
    "fp = softmax.fprop(a)\n",
    "deltas, ograds = softmax.bprop_cost(h=None, igrads=fp-b, cost=None)\n",
    "\n",
    "\n",
    "print fp.sum()\n",
    "print deltas.sum()\n",
    "print ograds.sum()\n",
    "%precision 3\n",
    "print fp\n",
    "print deltas\n",
    "print ograds\n"
   ]
  },
  {
   "cell_type": "markdown",
   "metadata": {},
   "source": [
    "***\n",
    "To include the `Softmax` code in the notebook please run the below code cell.  (The notebook `%load` command is used to load the source of the `Softmax` class from `mlp/layers.py`.)"
   ]
  },
  {
   "cell_type": "code",
   "execution_count": null,
   "metadata": {
    "collapsed": false
   },
   "outputs": [],
   "source": [
    "# %load -s Softmax mlp/layers.py\n",
    "class Softmax(Linear):\n",
    "    \"\"\"\n",
    "    Form of activation where each output is between 0 and 1. The sum of all outputs will be constrained to 1.\n",
    "    the output of a network is P(k | x^n)\n",
    "    \"\"\"\n",
    "    def __init__(self, idim, odim,\n",
    "                 rng=None,\n",
    "                 irange=0.1):\n",
    "\n",
    "        super(Linear, self).__init__(rng=rng)\n",
    "\n",
    "        self.idim = idim\n",
    "        self.odim = odim\n",
    "\n",
    "        self.W = self.rng.uniform(\n",
    "            -irange, irange,\n",
    "            (self.idim, self.odim))\n",
    "\n",
    "        self.b = numpy.zeros((self.odim,), dtype=numpy.float32)\n",
    "\n",
    "    def fprop(self, inputs):\n",
    "        \"\"\"\n",
    "        Implements a forward propagation through the i-th layer, that is\n",
    "        some form of:\n",
    "           a^i = xW^i + b^i\n",
    "           h^i = f^i(a^i)\n",
    "        with f^i, W^i, b^i denoting a non-linearity, weight matrix and\n",
    "        biases of this (i-th) layer, respectively and x denoting inputs.\n",
    "\n",
    "        :param inputs: matrix of features (x) or the output of the previous layer h^{i-1}\n",
    "        :return: h^i, matrix of transformed by layer features\n",
    "        \"\"\"\n",
    "        a = numpy.dot(inputs, self.W) + self.b\n",
    "        denom = sum([numpy.exp(j) for j in a])\n",
    "        y = numpy.array([numpy.exp(k)/denom for k in a])\n",
    "        # I HATE EVERYTHING\n",
    "        # here f() is an identity function, so just return a linear transformation\n",
    "        return y\n",
    "\n",
    "    def get_name(self):\n",
    "        return 'Softmax'\n"
   ]
  },
  {
   "cell_type": "markdown",
   "metadata": {},
   "source": [
    "## Task 3 - Multi-layer network for MNIST classification (40%)\n",
    "\n",
    "**(a)** (20%)  Building on the single layer linear network for MNIST classification used in lab [02_MNIST_SLN.ipynb](02_MNIST_SLN.ipynb), and using the `Sigmoid` and `Softmax` classes that you implemented in tasks 1 and 2, construct and learn a model that classifies MNIST images and:\n",
    "   * Has one hidden layer with a sigmoid transfer function and 100 units\n",
    "   * Uses a softmax output layer to discriminate between the 10 digit classes (use the `mlp.costs.CECost()` cost)\n",
    "†\n",
    "Your code should print the final values of the error function and the classification accuracy for train, validation, and test sets (please keep also the log information printed by default by the optimiser). Limit the number of training epochs to 30. You can, of course, split your code across as many cells as you think is necessary."
   ]
  },
  {
   "cell_type": "code",
   "execution_count": 4,
   "metadata": {
    "collapsed": false
   },
   "outputs": [
    {
     "name": "stderr",
     "output_type": "stream",
     "text": [
      "INFO:root:Initialising data providers...\n",
      "INFO:root:Training started...\n",
      "INFO:mlp.optimisers:Epoch 0: Training cost (mse) for random model is 1.352. Accuracy is 10.74%\n",
      "INFO:mlp.optimisers:Epoch 0: Validation cost (mse) for random model is 1.349. Accuracy is 11.08%\n",
      "INFO:mlp.optimisers:Epoch 1: Training cost (mse) is 0.398. Accuracy is 59.07%\n",
      "INFO:mlp.optimisers:Epoch 1: Validation cost (mse) is 0.287. Accuracy is 75.99%\n",
      "INFO:mlp.optimisers:Epoch 1: Took 1 seconds. Training speed 35084 pps. Validation speed 135496 pps.\n",
      "INFO:mlp.optimisers:Epoch 2: Training cost (mse) is 0.254. Accuracy is 77.11%\n",
      "INFO:mlp.optimisers:Epoch 2: Validation cost (mse) is 0.212. Accuracy is 82.30%\n",
      "INFO:mlp.optimisers:Epoch 2: Took 1 seconds. Training speed 36340 pps. Validation speed 144873 pps.\n",
      "INFO:mlp.optimisers:Epoch 3: Training cost (mse) is 0.204. Accuracy is 81.59%\n",
      "INFO:mlp.optimisers:Epoch 3: Validation cost (mse) is 0.176. Accuracy is 85.09%\n",
      "INFO:mlp.optimisers:Epoch 3: Took 1 seconds. Training speed 36842 pps. Validation speed 149167 pps.\n",
      "INFO:mlp.optimisers:Epoch 4: Training cost (mse) is 0.177. Accuracy is 83.76%\n",
      "INFO:mlp.optimisers:Epoch 4: Validation cost (mse) is 0.155. Accuracy is 86.47%\n",
      "INFO:mlp.optimisers:Epoch 4: Took 1 seconds. Training speed 36399 pps. Validation speed 139669 pps.\n",
      "INFO:mlp.optimisers:Epoch 5: Training cost (mse) is 0.160. Accuracy is 84.92%\n",
      "INFO:mlp.optimisers:Epoch 5: Validation cost (mse) is 0.141. Accuracy is 87.15%\n",
      "INFO:mlp.optimisers:Epoch 5: Took 1 seconds. Training speed 36837 pps. Validation speed 141935 pps.\n",
      "INFO:mlp.optimisers:Epoch 6: Training cost (mse) is 0.148. Accuracy is 85.73%\n",
      "INFO:mlp.optimisers:Epoch 6: Validation cost (mse) is 0.131. Accuracy is 87.85%\n",
      "INFO:mlp.optimisers:Epoch 6: Took 1 seconds. Training speed 36965 pps. Validation speed 147180 pps.\n",
      "INFO:mlp.optimisers:Epoch 7: Training cost (mse) is 0.139. Accuracy is 86.36%\n",
      "INFO:mlp.optimisers:Epoch 7: Validation cost (mse) is 0.124. Accuracy is 88.38%\n",
      "INFO:mlp.optimisers:Epoch 7: Took 1 seconds. Training speed 36924 pps. Validation speed 146727 pps.\n",
      "INFO:mlp.optimisers:Epoch 8: Training cost (mse) is 0.132. Accuracy is 86.88%\n",
      "INFO:mlp.optimisers:Epoch 8: Validation cost (mse) is 0.118. Accuracy is 88.72%\n",
      "INFO:mlp.optimisers:Epoch 8: Took 1 seconds. Training speed 35935 pps. Validation speed 144534 pps.\n",
      "INFO:mlp.optimisers:Epoch 9: Training cost (mse) is 0.127. Accuracy is 87.21%\n",
      "INFO:mlp.optimisers:Epoch 9: Validation cost (mse) is 0.114. Accuracy is 89.02%\n",
      "INFO:mlp.optimisers:Epoch 9: Took 1 seconds. Training speed 35756 pps. Validation speed 138452 pps.\n",
      "INFO:mlp.optimisers:Epoch 10: Training cost (mse) is 0.123. Accuracy is 87.60%\n",
      "INFO:mlp.optimisers:Epoch 10: Validation cost (mse) is 0.110. Accuracy is 89.13%\n",
      "INFO:mlp.optimisers:Epoch 10: Took 1 seconds. Training speed 35896 pps. Validation speed 144344 pps.\n",
      "INFO:mlp.optimisers:Epoch 11: Training cost (mse) is 0.120. Accuracy is 87.81%\n",
      "INFO:mlp.optimisers:Epoch 11: Validation cost (mse) is 0.107. Accuracy is 89.30%\n",
      "INFO:mlp.optimisers:Epoch 11: Took 1 seconds. Training speed 35891 pps. Validation speed 144831 pps.\n",
      "INFO:mlp.optimisers:Epoch 12: Training cost (mse) is 0.117. Accuracy is 88.04%\n",
      "INFO:mlp.optimisers:Epoch 12: Validation cost (mse) is 0.105. Accuracy is 89.53%\n",
      "INFO:mlp.optimisers:Epoch 12: Took 1 seconds. Training speed 36589 pps. Validation speed 148183 pps.\n",
      "INFO:mlp.optimisers:Epoch 13: Training cost (mse) is 0.115. Accuracy is 88.26%\n",
      "INFO:mlp.optimisers:Epoch 13: Validation cost (mse) is 0.103. Accuracy is 89.78%\n",
      "INFO:mlp.optimisers:Epoch 13: Took 1 seconds. Training speed 36581 pps. Validation speed 146060 pps.\n",
      "INFO:mlp.optimisers:Epoch 14: Training cost (mse) is 0.113. Accuracy is 88.42%\n",
      "INFO:mlp.optimisers:Epoch 14: Validation cost (mse) is 0.101. Accuracy is 89.84%\n",
      "INFO:mlp.optimisers:Epoch 14: Took 1 seconds. Training speed 36788 pps. Validation speed 133442 pps.\n",
      "INFO:mlp.optimisers:Epoch 15: Training cost (mse) is 0.111. Accuracy is 88.55%\n",
      "INFO:mlp.optimisers:Epoch 15: Validation cost (mse) is 0.100. Accuracy is 89.98%\n",
      "INFO:mlp.optimisers:Epoch 15: Took 1 seconds. Training speed 36458 pps. Validation speed 146798 pps.\n",
      "INFO:mlp.optimisers:Epoch 16: Training cost (mse) is 0.109. Accuracy is 88.66%\n",
      "INFO:mlp.optimisers:Epoch 16: Validation cost (mse) is 0.098. Accuracy is 90.05%\n",
      "INFO:mlp.optimisers:Epoch 16: Took 1 seconds. Training speed 36719 pps. Validation speed 134904 pps.\n",
      "INFO:mlp.optimisers:Epoch 17: Training cost (mse) is 0.108. Accuracy is 88.79%\n",
      "INFO:mlp.optimisers:Epoch 17: Validation cost (mse) is 0.097. Accuracy is 90.20%\n",
      "INFO:mlp.optimisers:Epoch 17: Took 1 seconds. Training speed 35803 pps. Validation speed 148650 pps.\n",
      "INFO:mlp.optimisers:Epoch 18: Training cost (mse) is 0.106. Accuracy is 88.93%\n",
      "INFO:mlp.optimisers:Epoch 18: Validation cost (mse) is 0.096. Accuracy is 90.31%\n",
      "INFO:mlp.optimisers:Epoch 18: Took 1 seconds. Training speed 36835 pps. Validation speed 138933 pps.\n",
      "INFO:mlp.optimisers:Epoch 19: Training cost (mse) is 0.105. Accuracy is 89.03%\n",
      "INFO:mlp.optimisers:Epoch 19: Validation cost (mse) is 0.095. Accuracy is 90.39%\n",
      "INFO:mlp.optimisers:Epoch 19: Took 1 seconds. Training speed 36670 pps. Validation speed 143753 pps.\n",
      "INFO:mlp.optimisers:Epoch 20: Training cost (mse) is 0.104. Accuracy is 89.13%\n",
      "INFO:mlp.optimisers:Epoch 20: Validation cost (mse) is 0.094. Accuracy is 90.43%\n",
      "INFO:mlp.optimisers:Epoch 20: Took 1 seconds. Training speed 36620 pps. Validation speed 129507 pps.\n",
      "INFO:root:Testing the model on test set:\n",
      "INFO:root:MNIST test set accuracy is 90.32 % (cost is 0.097)\n"
     ]
    }
   ],
   "source": [
    "# include here the complete code that constructs the model, performs training,\n",
    "# and prints the error and accuracy for train/valid/test\n",
    "\n",
    "import numpy\n",
    "import logging\n",
    "\n",
    "logger = logging.getLogger()\n",
    "logger.setLevel(logging.INFO)\n",
    "\n",
    "from mlp.layers import MLP, Linear, Softmax, Sigmoid #import required layer types\n",
    "from mlp.optimisers import SGDOptimiser #import the optimiser\n",
    "from mlp.dataset import MNISTDataProvider #import data provider\n",
    "from mlp.costs import MSECost, CECost #import the cost we want to use for optimisation\n",
    "from mlp.schedulers import LearningRateFixed\n",
    "\n",
    "rng = numpy.random.RandomState([2015,10,10])\n",
    "\n",
    "# define the model structure, here just one linear layer\n",
    "# and mean square error cost\n",
    "cost = MSECost()\n",
    "model = MLP(cost=cost)\n",
    "model.add_layer(Linear(idim=784, odim=100, rng=rng))\n",
    "model.add_layer(Sigmoid(idim=100, odim=10, rng=rng))\n",
    "# model.add_layer(Softmax(idim=100, odim=10, rng=rng))\n",
    "\n",
    "#one can stack more layers here\n",
    "\n",
    "# define the optimiser, here stochasitc gradient descent\n",
    "# with fixed learning rate and max_epochs as stopping criterion\n",
    "lr_scheduler = LearningRateFixed(learning_rate=0.01, max_epochs=20)\n",
    "optimiser = SGDOptimiser(lr_scheduler=lr_scheduler)\n",
    "\n",
    "logger.info('Initialising data providers...')\n",
    "train_dp = MNISTDataProvider(dset='train', batch_size=100, max_num_batches=-10, randomize=True)\n",
    "valid_dp = MNISTDataProvider(dset='valid', batch_size=100, max_num_batches=-10, randomize=False)\n",
    "\n",
    "logger.info('Training started...')\n",
    "optimiser.train(model, train_dp, valid_dp)\n",
    "\n",
    "logger.info('Testing the model on test set:')\n",
    "test_dp = MNISTDataProvider(dset='eval', batch_size=100, max_num_batches=-10, randomize=False)\n",
    "cost, accuracy = optimiser.validate(model, test_dp)\n",
    "logger.info('MNIST test set accuracy is %.2f %% (cost is %.3f)'%(accuracy*100., cost))\n",
    "\n"
   ]
  },
  {
   "cell_type": "markdown",
   "metadata": {},
   "source": [
    "**(b)** (10%) Investigate the impact of different learning rates $\\eta \\in \\{0.5, 0.2, 0.1, 0.05, 0.01, 0.005\\}$ on the convergence of the network training as well as the final accuracy:\n",
    "   * Plot (on a single graph) the error rate curves for each learning rate as a function of training epochs for training set\n",
    "   * Plot (on another single graph) the error rate curves as a function of training epochs for validation set\n",
    "   * Include a table of the corresponding error rates for test set\n",
    "\n",
    "The notebook command `%matplotlib inline` ensures that your graphs will be added to the notebook, rather than opened as additional windows."
   ]
  },
  {
   "cell_type": "code",
   "execution_count": null,
   "metadata": {
    "collapsed": false
   },
   "outputs": [],
   "source": [
    "%matplotlib inline"
   ]
  },
  {
   "cell_type": "markdown",
   "metadata": {},
   "source": [
    "**(c)** (10%) Plot the following graphs:\n",
    "  * Display the 784-element weight vector of each of the 100 hidden units as 10x10 grid plot of 28x28 images, in order to visualise what features of the input they are encoding.  To do this, take the weight vector of each hidden unit, reshape to 28x28, and plot using the `imshow` function).\n",
    "  * Plot a Hinton Diagram of the output layer weight matrix for digits 0 and 1"
   ]
  },
  {
   "cell_type": "code",
   "execution_count": null,
   "metadata": {
    "collapsed": true
   },
   "outputs": [],
   "source": [
    "%matplotlib inline"
   ]
  },
  {
   "cell_type": "markdown",
   "metadata": {
    "collapsed": true
   },
   "source": [
    "## Task 4 - Experiments with 1-5 hidden layers (30%)\n",
    "\n",
    "In this task use the learning rate which resulted in the best accuracy in your experiments in Task 3 (b).  Perform the following experiments:\n",
    "\n",
    "  * Train a similar model to Task 3, with one hidden layer, but with 800 hidden units. \n",
    "  * Train 4 additional models with 2, 3, 4 and 5 hidden layers.  Set the number of hidden units for each model, such that all the models have similar number of trainable weights ($\\pm$2%).   For simplicity, for a given model, keep the number of units in each hidden layer the same.\n",
    "  * Plot value of the error function for training and validation sets as a function of training epochs for each model\n",
    "  * Plot the test set classification accuracy as a function of the number of hidden layers\n"
   ]
  },
  {
   "cell_type": "code",
   "execution_count": null,
   "metadata": {
    "collapsed": true
   },
   "outputs": [],
   "source": []
  },
  {
   "cell_type": "markdown",
   "metadata": {
    "collapsed": true
   },
   "source": [
    "This is the end of coursework 1.\n",
    "\n",
    "Please remember to save your notebook, and submit your notebook following the instructions at the top.  Please make sure that you have executed all the code cells when you submit the notebook.\n"
   ]
  }
 ],
 "metadata": {
  "kernelspec": {
   "display_name": "Python 2",
   "language": "python",
   "name": "python2"
  },
  "language_info": {
   "codemirror_mode": {
    "name": "ipython",
    "version": 2
   },
   "file_extension": ".py",
   "mimetype": "text/x-python",
   "name": "python",
   "nbconvert_exporter": "python",
   "pygments_lexer": "ipython2",
   "version": "2.7.10"
  }
 },
 "nbformat": 4,
 "nbformat_minor": 0
}
