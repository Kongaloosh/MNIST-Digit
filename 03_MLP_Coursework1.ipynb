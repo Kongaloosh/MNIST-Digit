{
 "cells": [
  {
   "cell_type": "markdown",
   "metadata": {},
   "source": [
    "# Coursework #1\n",
    "\n",
    "## Introduction\n",
    "\n",
    "This coursework is concerned with building multi-layer networks to address the MNIST digit classification problem. It builds on the previous labs, in particular [02_MNIST_SLN.ipynb](02_MNIST_SLN.ipynb) in which single layer networks were trained for MNIST digit classification.   The course will involve extending that code to use Sigmoid and Softmax layers, combining these into multi-layer networks, and carrying out a number of MNIST digit classification experiments, to investigate the effect of learning rate, the number of hidden units, and the number of hidden layers.\n",
    "\n",
    "The coursework is divided into 4 tasks:\n",
    "* **Task 1**:   *Implementing a sigmoid layer* - 15 marks.  \n",
    "This task involves extending the `Linear` class in file `mlp/layers.py` to `Sigmoid`, with code for forward prop, backprop computation of the gradient, and weight update.\n",
    "* **Task 2**:  *Implementing a softmax layer* - 15 marks.  \n",
    "This task involves extending the `Linear` class in file `mlp/layers.py` to `Softmax`, with code for forward prop, backprop computation of the gradient, and weight update.\n",
    "* **Task 3**:  *Constructing a multi-layer network* - 40 marks.  \n",
    "This task involves putting together a Sigmoid and a Softmax layer to create a multi-layer network, with one hidden layer (100 units) and one output layer, that is trained to classify MNIST digits.  This task will include reporting classification results, exploring the effect of learning rates, and plotting Hinton Diagrams for the hidden units and output units.\n",
    "* **Task 4**:  *Experiments with different architectures*  - 30 marks.  \n",
    "This task involves further MNIST classification experiments, primarily looking at the effect of using different numbers of hidden layers.\n",
    "The coursework will be marked out of 100, and will contribute 30% of the total mark in the MLP course.\n",
    "\n",
    "## Previous Tutorials\n",
    "\n",
    "Before starting this coursework make sure that you have completed the first three labs:\n",
    "\n",
    "* [00_Introduction.ipynb](00_Introduction.ipynb) - setting up your environment; *Solutions*: [00_Introduction_solution.ipynb](00_Introduction_solution.ipynb)\n",
    "* [01_Linear_Models.ipynb](01_Linear_Models.ipynb) - training single layer networks; *Solutions*: [01_Linear_Models_solution.ipynb](01_Linear_Models_solution.ipynb)\n",
    "* [02_MNIST_SLN.ipynb](02_MNIST_SLN.ipynb) - training a single layer network for MNIST digit classification\n",
    "\n",
    "To ensure that your virtual environment is correct, please see [this note](https://github.com/CSTR-Edinburgh/mlpractical/blob/master/kernel_issue_fix.md) on the GitHub.\n",
    "## Submission\n",
    "**Submission Deadline:  Thursday 29 October, 16:00** \n",
    "\n",
    "Submit the coursework as an ipython notebook file, using the `submit` command in the terminal on a DICE machine. If your file is `03_MLP_Coursework1.ipynb` then you would enter:\n",
    "\n",
    "`submit mlp 1 03_MLP_Coursework1.ipynb` \n",
    "\n",
    "where `mlp 1` indicates this is the first coursework of MLP.\n",
    "\n",
    "After submitting, you should receive an email of acknowledgment from the system confirming that your submission has been received successfully. Keep the email as evidence of your coursework submission.\n",
    "\n",
    "**Please make sure you submit a single `ipynb` file (and nothing else)!**\n",
    "\n",
    "**Submission Deadline:  Thursday 29 October, 16:00** \n",
    "\n"
   ]
  },
  {
   "cell_type": "markdown",
   "metadata": {},
   "source": [
    "## Getting Started\n",
    "Please enter your exam number and the date in the next code cell."
   ]
  },
  {
   "cell_type": "code",
   "execution_count": 3,
   "metadata": {
    "collapsed": true
   },
   "outputs": [],
   "source": [
    "#MLP Coursework 1\n",
    "#Exam number: <ENTER EXAM NUMBER>\n",
    "#Date: <ENTER DATE>\n",
    "\n"
   ]
  },
  {
   "cell_type": "markdown",
   "metadata": {},
   "source": [
    "Please run the next code cell, which imports `numpy` and seeds the random number generator.  Please **do not** modify the random number generator seed!"
   ]
  },
  {
   "cell_type": "code",
   "execution_count": 4,
   "metadata": {
    "collapsed": false
   },
   "outputs": [],
   "source": [
    "import numpy\n",
    "\n",
    "#Seed a random number generator running the below cell, but do **not** modify the seed.\n",
    "rng = numpy.random.RandomState([2015,10,10])\n",
    "rng_state = rng.get_state()"
   ]
  },
  {
   "cell_type": "markdown",
   "metadata": {},
   "source": [
    "## Task 1 - Sigmoid Layer (15%)\n",
    "\n",
    "In this task you need to create a class `Sigmoid` which encapsulates a layer of sigmoid units.  You should do this by extending the `mlp.layers.Linear` class (in file `mlp/layers.py`), which implements a a layer of linear units (i.e. weighted sum plus bias).  The `Sigmoid` class extends this by applying the sigmoid transfer function to the weighted sum in the forward propagation, and applying the derivative of the sigmoid in the gradient descent back propagation and computing the gradients with respect to layer's parameters. Do **not** copy the implementation provided in `Linear` class but rather, **reuse** it through inheritance.\n",
    "\n",
    "When you have implemented `Sigmoid` (in the `mlp.layers` module), then please test it by running the below code cell.\n"
   ]
  },
  {
   "cell_type": "code",
   "execution_count": 5,
   "metadata": {
    "collapsed": false
   },
   "outputs": [
    {
     "name": "stdout",
     "output_type": "stream",
     "text": [
      "4.21941537867\n",
      "121.4\n",
      "20.4570981826\n",
      "[ 0.067  0.728  0.999  0.512  0.159  0.584  0.238  0.932]\n",
      "[ -2.010e+01   5.240e+01   0.000e+00   5.000e-02   5.000e-02   4.900e+01\n",
      "   2.000e+01   2.000e+01]\n",
      "[ 6.767 -0.31  -2.96   2.424  8.377  6.16 ]\n"
     ]
    }
   ],
   "source": [
    "from mlp.layers import Sigmoid\n",
    "\n",
    "a = numpy.asarray([-20.1, 52.4, 0, 0.05, 0.05, 49])\n",
    "b = numpy.asarray([-20.1, 52.4, 0, 0.05, 0.05, 49, 20, 20])\n",
    "\n",
    "rng.set_state(rng_state)\n",
    "sigm = Sigmoid(idim=a.shape[0], odim=b.shape[0], rng=rng)\n",
    "\n",
    "fp = sigm.fprop(a)\n",
    "deltas, ograds  = sigm.bprop(h=fp, igrads=b)\n",
    "\n",
    "print fp.sum()\n",
    "print deltas.sum()\n",
    "print ograds.sum()\n",
    "%precision 3\n",
    "print fp\n",
    "print deltas\n",
    "print ograds\n"
   ]
  },
  {
   "cell_type": "markdown",
   "metadata": {},
   "source": [
    "***\n",
    "To include the `Sigmoid` code in the notebook please run the below code cell.  (The `%load` notebook command is used to load the source of the `Sigmoid` class from `mlp/layers.py`.)"
   ]
  },
  {
   "cell_type": "code",
   "execution_count": 6,
   "metadata": {
    "collapsed": false
   },
   "outputs": [
    {
     "ename": "NameError",
     "evalue": "name 'Linear' is not defined",
     "output_type": "error",
     "traceback": [
      "\u001b[0;31m---------------------------------------------------------------------------\u001b[0m",
      "\u001b[0;31mNameError\u001b[0m                                 Traceback (most recent call last)",
      "\u001b[0;32m<ipython-input-6-32affe7f2b24>\u001b[0m in \u001b[0;36m<module>\u001b[0;34m()\u001b[0m\n\u001b[1;32m      1\u001b[0m \u001b[0;31m# %load -s Sigmoid mlp/layers.py\u001b[0m\u001b[0;34m\u001b[0m\u001b[0;34m\u001b[0m\u001b[0m\n\u001b[0;32m----> 2\u001b[0;31m \u001b[0;32mclass\u001b[0m \u001b[0mSigmoid\u001b[0m\u001b[0;34m(\u001b[0m\u001b[0mLinear\u001b[0m\u001b[0;34m)\u001b[0m\u001b[0;34m:\u001b[0m\u001b[0;34m\u001b[0m\u001b[0m\n\u001b[0m\u001b[1;32m      3\u001b[0m     \"\"\"\n\u001b[1;32m      4\u001b[0m     \u001b[0mForm\u001b[0m \u001b[0mof\u001b[0m \u001b[0mactivation\u001b[0m \u001b[0mwhere\u001b[0m \u001b[0meach\u001b[0m \u001b[0moutput\u001b[0m \u001b[0;32mis\u001b[0m \u001b[0mbetween\u001b[0m \u001b[0;36m0\u001b[0m \u001b[0;32mand\u001b[0m \u001b[0;36m1.\u001b[0m \u001b[0mThe\u001b[0m \u001b[0msum\u001b[0m \u001b[0mof\u001b[0m \u001b[0mall\u001b[0m \u001b[0moutputs\u001b[0m \u001b[0mwill\u001b[0m \u001b[0mbe\u001b[0m \u001b[0mconstrained\u001b[0m \u001b[0mto\u001b[0m \u001b[0;36m1.\u001b[0m\u001b[0;34m\u001b[0m\u001b[0m\n\u001b[1;32m      5\u001b[0m     \u001b[0mthe\u001b[0m \u001b[0moutput\u001b[0m \u001b[0mof\u001b[0m \u001b[0ma\u001b[0m \u001b[0mnetwork\u001b[0m \u001b[0;32mis\u001b[0m \u001b[0mP\u001b[0m\u001b[0;34m(\u001b[0m\u001b[0mk\u001b[0m \u001b[0;34m|\u001b[0m \u001b[0mx\u001b[0m\u001b[0;34m^\u001b[0m\u001b[0mn\u001b[0m\u001b[0;34m)\u001b[0m\u001b[0;34m\u001b[0m\u001b[0m\n",
      "\u001b[0;31mNameError\u001b[0m: name 'Linear' is not defined"
     ]
    }
   ],
   "source": [
    "# %load -s Sigmoid mlp/layers.py\n",
    "class Sigmoid(Linear):\n",
    "    \"\"\"\n",
    "    Form of activation where each output is between 0 and 1. The sum of all outputs will be constrained to 1.\n",
    "    the output of a network is P(k | x^n)\n",
    "    \"\"\"\n",
    "    def __init__(self, idim, odim,\n",
    "                 rng=None,\n",
    "                 irange=0.1):\n",
    "\n",
    "        super(Linear, self).__init__(rng=rng)\n",
    "\n",
    "        self.idim = idim\n",
    "        self.odim = odim\n",
    "\n",
    "        self.W = self.rng.uniform(\n",
    "            -irange, irange,\n",
    "            (self.idim, self.odim))\n",
    "\n",
    "        self.b = numpy.zeros((self.odim,), dtype=numpy.float32)\n",
    "\n",
    "    def fprop(self, inputs):\n",
    "        \"\"\"\n",
    "        Implements a forward propagation through the i-th layer, that is\n",
    "        some form of:\n",
    "           a^i = xW^i + b^i\n",
    "           h^i = f^i(a^i)\n",
    "        with f^i, W^i, b^i denoting a non-linearity, weight matrix and\n",
    "        biases of this (i-th) layer, respectively and x denoting inputs.\n",
    "\n",
    "        :param inputs: matrix of features (x) or the output of the previous layer h^{i-1}\n",
    "        :return: h^i, matrix of transformed by layer features\n",
    "        \"\"\"\n",
    "        a = numpy.dot(inputs, self.W) + self.b\n",
    "        y = 1/(1 + numpy.exp(-1 * a))\n",
    "        return y\n",
    "\n",
    "    def get_name(self):\n",
    "        return 'Sigmoid'\n"
   ]
  },
  {
   "cell_type": "markdown",
   "metadata": {},
   "source": [
    "## Task 2 - Softmax (15%)\n",
    "\n",
    "In this task you need to create a class `Softmax` which encapsulates a layer of softmax units.  As in the previous task, you should do this by extending the `mlp.layers.Linear` class (in file `mlp/layers.py`).\n",
    "\n",
    "When you have implemented `Softmax` (in the `mlp.layers` module), then please test it by running the below code cell.\n"
   ]
  },
  {
   "cell_type": "code",
   "execution_count": 7,
   "metadata": {
    "collapsed": false,
    "scrolled": true
   },
   "outputs": [
    {
     "name": "stdout",
     "output_type": "stream",
     "text": [
      "1.0\n",
      "0.0\n",
      "0.0744177068753\n",
      "[  4.571e-05   1.697e-03   9.877e-01   6.631e-04   1.194e-04   8.880e-04\n",
      "   1.977e-04   8.671e-03]\n",
      "[  4.571e-05   1.697e-03   9.877e-01   6.631e-04   1.194e-04   8.880e-04\n",
      "   1.977e-04  -9.913e-01]\n",
      "[-0.089  0.03   0.079  0.011  0.017  0.027]\n"
     ]
    }
   ],
   "source": [
    "from mlp.layers import Softmax\n",
    "\n",
    "a = numpy.asarray([-20.1, 52.4, 0, 0.05, 0.05, 49])\n",
    "b = numpy.asarray([0, 0, 0, 0, 0, 0, 0, 1])\n",
    "\n",
    "rng.set_state(rng_state)\n",
    "softmax = Softmax(idim=a.shape[0], odim=b.shape[0], rng=rng)\n",
    "\n",
    "fp = softmax.fprop(a)\n",
    "deltas, ograds = softmax.bprop_cost(h=None, igrads=fp-b, cost=None)\n",
    "\n",
    "\n",
    "print fp.sum()\n",
    "print deltas.sum()\n",
    "print ograds.sum()\n",
    "%precision 3\n",
    "print fp\n",
    "print deltas\n",
    "print ograds\n"
   ]
  },
  {
   "cell_type": "markdown",
   "metadata": {},
   "source": [
    "***\n",
    "To include the `Softmax` code in the notebook please run the below code cell.  (The notebook `%load` command is used to load the source of the `Softmax` class from `mlp/layers.py`.)"
   ]
  },
  {
   "cell_type": "code",
   "execution_count": 9,
   "metadata": {
    "collapsed": false
   },
   "outputs": [
    {
     "ename": "NameError",
     "evalue": "name 'Linear' is not defined",
     "output_type": "error",
     "traceback": [
      "\u001b[0;31m---------------------------------------------------------------------------\u001b[0m",
      "\u001b[0;31mNameError\u001b[0m                                 Traceback (most recent call last)",
      "\u001b[0;32m<ipython-input-9-c90bdc9c37e7>\u001b[0m in \u001b[0;36m<module>\u001b[0;34m()\u001b[0m\n\u001b[1;32m      1\u001b[0m \u001b[0;31m# %load -s Softmax mlp/layers.py\u001b[0m\u001b[0;34m\u001b[0m\u001b[0;34m\u001b[0m\u001b[0m\n\u001b[0;32m----> 2\u001b[0;31m \u001b[0;32mclass\u001b[0m \u001b[0mSoftmax\u001b[0m\u001b[0;34m(\u001b[0m\u001b[0mLinear\u001b[0m\u001b[0;34m)\u001b[0m\u001b[0;34m:\u001b[0m\u001b[0;34m\u001b[0m\u001b[0m\n\u001b[0m\u001b[1;32m      3\u001b[0m     \"\"\"\n\u001b[1;32m      4\u001b[0m     \u001b[0mForm\u001b[0m \u001b[0mof\u001b[0m \u001b[0mactivation\u001b[0m \u001b[0mwhere\u001b[0m \u001b[0meach\u001b[0m \u001b[0moutput\u001b[0m \u001b[0;32mis\u001b[0m \u001b[0mbetween\u001b[0m \u001b[0;36m0\u001b[0m \u001b[0;32mand\u001b[0m \u001b[0;36m1.\u001b[0m \u001b[0mThe\u001b[0m \u001b[0msum\u001b[0m \u001b[0mof\u001b[0m \u001b[0mall\u001b[0m \u001b[0moutputs\u001b[0m \u001b[0mwill\u001b[0m \u001b[0mbe\u001b[0m \u001b[0mconstrained\u001b[0m \u001b[0mto\u001b[0m \u001b[0;36m1.\u001b[0m\u001b[0;34m\u001b[0m\u001b[0m\n\u001b[1;32m      5\u001b[0m     \u001b[0mthe\u001b[0m \u001b[0moutput\u001b[0m \u001b[0mof\u001b[0m \u001b[0ma\u001b[0m \u001b[0mnetwork\u001b[0m \u001b[0;32mis\u001b[0m \u001b[0mP\u001b[0m\u001b[0;34m(\u001b[0m\u001b[0mk\u001b[0m \u001b[0;34m|\u001b[0m \u001b[0mx\u001b[0m\u001b[0;34m^\u001b[0m\u001b[0mn\u001b[0m\u001b[0;34m)\u001b[0m\u001b[0;34m\u001b[0m\u001b[0m\n",
      "\u001b[0;31mNameError\u001b[0m: name 'Linear' is not defined"
     ]
    }
   ],
   "source": [
    "# %load -s Softmax mlp/layers.py\n",
    "class Softmax(Linear):\n",
    "    \"\"\"\n",
    "    Form of activation where each output is between 0 and 1. The sum of all outputs will be constrained to 1.\n",
    "    the output of a network is P(k | x^n)\n",
    "    \"\"\"\n",
    "    def __init__(self, idim, odim,\n",
    "                 rng=None,\n",
    "                 irange=0.1):\n",
    "\n",
    "        super(Linear, self).__init__(rng=rng)\n",
    "\n",
    "        self.idim = idim\n",
    "        self.odim = odim\n",
    "\n",
    "        self.W = self.rng.uniform(\n",
    "            -irange, irange,\n",
    "            (self.idim, self.odim))\n",
    "\n",
    "        self.b = numpy.zeros((self.odim,), dtype=numpy.float32)\n",
    "\n",
    "    def fprop(self, inputs):\n",
    "        \"\"\"\n",
    "        Implements a forward propagation through the i-th layer, that is\n",
    "        some form of:\n",
    "           a^i = xW^i + b^i\n",
    "           h^i = f^i(a^i)\n",
    "        with f^i, W^i, b^i denoting a non-linearity, weight matrix and\n",
    "        biases of this (i-th) layer, respectively and x denoting inputs.\n",
    "\n",
    "        :param inputs: matrix of features (x) or the output of the previous layer h^{i-1}\n",
    "        :return: h^i, matrix of transformed by layer features\n",
    "        \"\"\"\n",
    "        a = numpy.dot(inputs, self.W) + self.b\n",
    "        denom = sum([numpy.exp(j) for j in a])\n",
    "        y = numpy.array([numpy.exp(k)/denom for k in a])\n",
    "        # I HATE EVERYTHING\n",
    "        # here f() is an identity function, so just return a linear transformation\n",
    "        return y\n",
    "\n",
    "    def get_name(self):\n",
    "        return 'Softmax'\n"
   ]
  },
  {
   "cell_type": "markdown",
   "metadata": {},
   "source": [
    "## Task 3 - Multi-layer network for MNIST classification (40%)\n",
    "\n",
    "**(a)** (20%)  Building on the single layer linear network for MNIST classification used in lab [02_MNIST_SLN.ipynb](02_MNIST_SLN.ipynb), and using the `Sigmoid` and `Softmax` classes that you implemented in tasks 1 and 2, construct and learn a model that classifies MNIST images and:\n",
    "   * Has one hidden layer with a sigmoid transfer function and 100 units\n",
    "   * Uses a softmax output layer to discriminate between the 10 digit classes (use the `mlp.costs.CECost()` cost)\n",
    "\n",
    "Your code should print the final values of the error function and the classification accuracy for train, validation, and test sets (please keep also the log information printed by default by the optimiser). Limit the number of training epochs to 30. You can, of course, split your code across as many cells as you think is necessary."
   ]
  },
  {
   "cell_type": "code",
   "execution_count": 15,
   "metadata": {
    "collapsed": false
   },
   "outputs": [
    {
     "name": "stderr",
     "output_type": "stream",
     "text": [
      "INFO:root:Initialising data providers...\n",
      "INFO:root:Training started...\n",
      "INFO:mlp.optimisers:Epoch 0: Training cost (mse) for random model is 0.491. Accuracy is 7.84%\n",
      "INFO:mlp.optimisers:Epoch 0: Validation cost (mse) for random model is 0.491. Accuracy is 7.58%\n",
      "mlp/layers.py:354: RuntimeWarning: overflow encountered in exp\n",
      "  y = 1/(1 + numpy.exp(-1 * a))\n",
      "INFO:mlp.optimisers:Epoch 1: Training cost (mse) is 0.490. Accuracy is 15.37%\n",
      "INFO:mlp.optimisers:Epoch 1: Validation cost (mse) is 0.490. Accuracy is 10.90%\n",
      "INFO:mlp.optimisers:Epoch 1: Took 2 seconds. Training speed 28405 pps. Validation speed 79822 pps.\n",
      "INFO:mlp.optimisers:Epoch 2: Training cost (mse) is 0.490. Accuracy is 9.85%\n",
      "INFO:mlp.optimisers:Epoch 2: Validation cost (mse) is 0.490. Accuracy is 9.90%\n",
      "INFO:mlp.optimisers:Epoch 2: Took 2 seconds. Training speed 29194 pps. Validation speed 80863 pps.\n",
      "INFO:mlp.optimisers:Epoch 3: Training cost (mse) is 0.490. Accuracy is 10.03%\n",
      "INFO:mlp.optimisers:Epoch 3: Validation cost (mse) is 0.490. Accuracy is 9.67%\n",
      "INFO:mlp.optimisers:Epoch 3: Took 2 seconds. Training speed 29411 pps. Validation speed 85670 pps.\n",
      "INFO:mlp.optimisers:Epoch 4: Training cost (mse) is nan. Accuracy is 9.79%\n",
      "INFO:mlp.optimisers:Epoch 4: Validation cost (mse) is nan. Accuracy is 9.91%\n",
      "INFO:mlp.optimisers:Epoch 4: Took 2 seconds. Training speed 29569 pps. Validation speed 84616 pps.\n",
      "INFO:mlp.optimisers:Epoch 5: Training cost (mse) is nan. Accuracy is 9.86%\n",
      "INFO:mlp.optimisers:Epoch 5: Validation cost (mse) is nan. Accuracy is 9.91%\n",
      "INFO:mlp.optimisers:Epoch 5: Took 2 seconds. Training speed 29695 pps. Validation speed 87759 pps.\n",
      "INFO:mlp.optimisers:Epoch 6: Training cost (mse) is nan. Accuracy is 9.86%\n",
      "INFO:mlp.optimisers:Epoch 6: Validation cost (mse) is nan. Accuracy is 9.91%\n",
      "INFO:mlp.optimisers:Epoch 6: Took 2 seconds. Training speed 29490 pps. Validation speed 86024 pps.\n",
      "INFO:mlp.optimisers:Epoch 7: Training cost (mse) is nan. Accuracy is 9.86%\n",
      "INFO:mlp.optimisers:Epoch 7: Validation cost (mse) is nan. Accuracy is 9.91%\n",
      "INFO:mlp.optimisers:Epoch 7: Took 2 seconds. Training speed 29553 pps. Validation speed 84882 pps.\n",
      "INFO:mlp.optimisers:Epoch 8: Training cost (mse) is nan. Accuracy is 9.86%\n",
      "INFO:mlp.optimisers:Epoch 8: Validation cost (mse) is nan. Accuracy is 9.91%\n",
      "INFO:mlp.optimisers:Epoch 8: Took 2 seconds. Training speed 29324 pps. Validation speed 83998 pps.\n",
      "INFO:mlp.optimisers:Epoch 9: Training cost (mse) is nan. Accuracy is 9.86%\n",
      "INFO:mlp.optimisers:Epoch 9: Validation cost (mse) is nan. Accuracy is 9.91%\n",
      "INFO:mlp.optimisers:Epoch 9: Took 2 seconds. Training speed 29594 pps. Validation speed 86971 pps.\n",
      "INFO:mlp.optimisers:Epoch 10: Training cost (mse) is nan. Accuracy is 9.86%\n",
      "INFO:mlp.optimisers:Epoch 10: Validation cost (mse) is nan. Accuracy is 9.91%\n",
      "INFO:mlp.optimisers:Epoch 10: Took 2 seconds. Training speed 29362 pps. Validation speed 84087 pps.\n",
      "INFO:mlp.optimisers:Epoch 11: Training cost (mse) is nan. Accuracy is 9.86%\n",
      "INFO:mlp.optimisers:Epoch 11: Validation cost (mse) is nan. Accuracy is 9.91%\n",
      "INFO:mlp.optimisers:Epoch 11: Took 2 seconds. Training speed 29523 pps. Validation speed 86946 pps.\n",
      "INFO:mlp.optimisers:Epoch 12: Training cost (mse) is nan. Accuracy is 9.86%\n",
      "INFO:mlp.optimisers:Epoch 12: Validation cost (mse) is nan. Accuracy is 9.91%\n",
      "INFO:mlp.optimisers:Epoch 12: Took 2 seconds. Training speed 29599 pps. Validation speed 86685 pps.\n",
      "INFO:mlp.optimisers:Epoch 13: Training cost (mse) is nan. Accuracy is 9.86%\n",
      "INFO:mlp.optimisers:Epoch 13: Validation cost (mse) is nan. Accuracy is 9.91%\n",
      "INFO:mlp.optimisers:Epoch 13: Took 2 seconds. Training speed 29615 pps. Validation speed 86310 pps.\n",
      "INFO:mlp.optimisers:Epoch 14: Training cost (mse) is nan. Accuracy is 9.86%\n",
      "INFO:mlp.optimisers:Epoch 14: Validation cost (mse) is nan. Accuracy is 9.91%\n",
      "INFO:mlp.optimisers:Epoch 14: Took 2 seconds. Training speed 28357 pps. Validation speed 86360 pps.\n",
      "INFO:mlp.optimisers:Epoch 15: Training cost (mse) is nan. Accuracy is 9.86%\n",
      "INFO:mlp.optimisers:Epoch 15: Validation cost (mse) is nan. Accuracy is 9.91%\n",
      "INFO:mlp.optimisers:Epoch 15: Took 2 seconds. Training speed 29005 pps. Validation speed 86539 pps.\n",
      "INFO:mlp.optimisers:Epoch 16: Training cost (mse) is nan. Accuracy is 9.86%\n",
      "INFO:mlp.optimisers:Epoch 16: Validation cost (mse) is nan. Accuracy is 9.91%\n",
      "INFO:mlp.optimisers:Epoch 16: Took 2 seconds. Training speed 29615 pps. Validation speed 87662 pps.\n",
      "INFO:mlp.optimisers:Epoch 17: Training cost (mse) is nan. Accuracy is 9.86%\n",
      "INFO:mlp.optimisers:Epoch 17: Validation cost (mse) is nan. Accuracy is 9.91%\n",
      "INFO:mlp.optimisers:Epoch 17: Took 2 seconds. Training speed 29391 pps. Validation speed 81663 pps.\n",
      "INFO:mlp.optimisers:Epoch 18: Training cost (mse) is nan. Accuracy is 9.86%\n",
      "INFO:mlp.optimisers:Epoch 18: Validation cost (mse) is nan. Accuracy is 9.91%\n",
      "INFO:mlp.optimisers:Epoch 18: Took 2 seconds. Training speed 29591 pps. Validation speed 84085 pps.\n",
      "INFO:mlp.optimisers:Epoch 19: Training cost (mse) is nan. Accuracy is 9.86%\n",
      "INFO:mlp.optimisers:Epoch 19: Validation cost (mse) is nan. Accuracy is 9.91%\n",
      "INFO:mlp.optimisers:Epoch 19: Took 2 seconds. Training speed 29666 pps. Validation speed 87802 pps.\n",
      "INFO:mlp.optimisers:Epoch 20: Training cost (mse) is nan. Accuracy is 9.86%\n",
      "INFO:mlp.optimisers:Epoch 20: Validation cost (mse) is nan. Accuracy is 9.91%\n",
      "INFO:mlp.optimisers:Epoch 20: Took 2 seconds. Training speed 29530 pps. Validation speed 86872 pps.\n",
      "INFO:root:Testing the model on test set:\n",
      "INFO:root:MNIST test set accuracy is 9.80 % (cost is nan)\n"
     ]
    }
   ],
   "source": [
    "# include here the complete code that constructs the model, performs training,\n",
    "# and prints the error and accuracy for train/valid/test\n",
    "\n",
    "import numpy\n",
    "import logging\n",
    "\n",
    "logger = logging.getLogger()\n",
    "logger.setLevel(logging.INFO)\n",
    "\n",
    "from mlp.layers import MLP, Linear, Softmax, Sigmoid #import required layer types\n",
    "from mlp.optimisers import SGDOptimiser #import the optimiser\n",
    "from mlp.dataset import MNISTDataProvider #import data provider\n",
    "from mlp.costs import MSECost #import the cost we want to use for optimisation\n",
    "from mlp.schedulers import LearningRateFixed\n",
    "\n",
    "rng = numpy.random.RandomState([2015,10,10])\n",
    "\n",
    "# define the model structure, here just one linear layer\n",
    "# and mean square error cost\n",
    "cost = MSECost()\n",
    "model = MLP(cost=cost)\n",
    "model.add_layer(Linear(idim=784, odim=100, rng=rng))\n",
    "model.add_layer(Sigmoid(idim=100, odim=100, rng=rng))\n",
    "model.add_layer(Softmax(idim=100, odim=10, rng=rng))\n",
    "\n",
    "#one can stack more layers here\n",
    "\n",
    "# define the optimiser, here stochasitc gradient descent\n",
    "# with fixed learning rate and max_epochs as stopping criterion\n",
    "lr_scheduler = LearningRateFixed(learning_rate=0.01, max_epochs=20)\n",
    "optimiser = SGDOptimiser(lr_scheduler=lr_scheduler)\n",
    "\n",
    "logger.info('Initialising data providers...')\n",
    "train_dp = MNISTDataProvider(dset='train', batch_size=100, max_num_batches=-10, randomize=True)\n",
    "valid_dp = MNISTDataProvider(dset='valid', batch_size=100, max_num_batches=-10, randomize=False)\n",
    "\n",
    "logger.info('Training started...')\n",
    "optimiser.train(model, train_dp, valid_dp)\n",
    "\n",
    "logger.info('Testing the model on test set:')\n",
    "test_dp = MNISTDataProvider(dset='eval', batch_size=100, max_num_batches=-10, randomize=False)\n",
    "cost, accuracy = optimiser.validate(model, test_dp)\n",
    "logger.info('MNIST test set accuracy is %.2f %% (cost is %.3f)'%(accuracy*100., cost))\n",
    "\n"
   ]
  },
  {
   "cell_type": "markdown",
   "metadata": {},
   "source": [
    "**(b)** (10%) Investigate the impact of different learning rates $\\eta \\in \\{0.5, 0.2, 0.1, 0.05, 0.01, 0.005\\}$ on the convergence of the network training as well as the final accuracy:\n",
    "   * Plot (on a single graph) the error rate curves for each learning rate as a function of training epochs for training set\n",
    "   * Plot (on another single graph) the error rate curves as a function of training epochs for validation set\n",
    "   * Include a table of the corresponding error rates for test set\n",
    "\n",
    "The notebook command `%matplotlib inline` ensures that your graphs will be added to the notebook, rather than opened as additional windows."
   ]
  },
  {
   "cell_type": "code",
   "execution_count": null,
   "metadata": {
    "collapsed": false
   },
   "outputs": [],
   "source": [
    "%matplotlib inline"
   ]
  },
  {
   "cell_type": "markdown",
   "metadata": {},
   "source": [
    "**(c)** (10%) Plot the following graphs:\n",
    "  * Display the 784-element weight vector of each of the 100 hidden units as 10x10 grid plot of 28x28 images, in order to visualise what features of the input they are encoding.  To do this, take the weight vector of each hidden unit, reshape to 28x28, and plot using the `imshow` function).\n",
    "  * Plot a Hinton Diagram of the output layer weight matrix for digits 0 and 1"
   ]
  },
  {
   "cell_type": "code",
   "execution_count": null,
   "metadata": {
    "collapsed": true
   },
   "outputs": [],
   "source": [
    "%matplotlib inline"
   ]
  },
  {
   "cell_type": "markdown",
   "metadata": {
    "collapsed": true
   },
   "source": [
    "## Task 4 - Experiments with 1-5 hidden layers (30%)\n",
    "\n",
    "In this task use the learning rate which resulted in the best accuracy in your experiments in Task 3 (b).  Perform the following experiments:\n",
    "\n",
    "  * Train a similar model to Task 3, with one hidden layer, but with 800 hidden units. \n",
    "  * Train 4 additional models with 2, 3, 4 and 5 hidden layers.  Set the number of hidden units for each model, such that all the models have similar number of trainable weights ($\\pm$2%).   For simplicity, for a given model, keep the number of units in each hidden layer the same.\n",
    "  * Plot value of the error function for training and validation sets as a function of training epochs for each model\n",
    "  * Plot the test set classification accuracy as a function of the number of hidden layers\n"
   ]
  },
  {
   "cell_type": "code",
   "execution_count": null,
   "metadata": {
    "collapsed": true
   },
   "outputs": [],
   "source": []
  },
  {
   "cell_type": "markdown",
   "metadata": {
    "collapsed": true
   },
   "source": [
    "This is the end of coursework 1.\n",
    "\n",
    "Please remember to save your notebook, and submit your notebook following the instructions at the top.  Please make sure that you have executed all the code cells when you submit the notebook.\n"
   ]
  }
 ],
 "metadata": {
  "kernelspec": {
   "display_name": "Python 2",
   "language": "python",
   "name": "python2"
  },
  "language_info": {
   "codemirror_mode": {
    "name": "ipython",
    "version": 2
   },
   "file_extension": ".py",
   "mimetype": "text/x-python",
   "name": "python",
   "nbconvert_exporter": "python",
   "pygments_lexer": "ipython2",
   "version": "2.7.10"
  }
 },
 "nbformat": 4,
 "nbformat_minor": 0
}
